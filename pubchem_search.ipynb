{
 "cells": [
  {
   "cell_type": "code",
   "execution_count": 1,
   "metadata": {},
   "outputs": [],
   "source": [
    "import pubchempy as pcp"
   ]
  },
  {
   "cell_type": "code",
   "execution_count": 10,
   "metadata": {},
   "outputs": [],
   "source": [
    "c = pcp.get_compounds('Melatonin', 'name')\n",
    "name = [x.synonyms[0] for x in c]"
   ]
  },
  {
   "cell_type": "code",
   "execution_count": 11,
   "metadata": {},
   "outputs": [],
   "source": [
    "can_smi = [x.canonical_smiles for x in c]"
   ]
  }
 ],
 "metadata": {
  "interpreter": {
   "hash": "126098f6c1b4687422608b11adde850c5238a330d7cc07c31adf30765b596114"
  },
  "kernelspec": {
   "display_name": "Python 3.8.13 64-bit ('env.streamlit': conda)",
   "language": "python",
   "name": "python3"
  },
  "language_info": {
   "codemirror_mode": {
    "name": "ipython",
    "version": 3
   },
   "file_extension": ".py",
   "mimetype": "text/x-python",
   "name": "python",
   "nbconvert_exporter": "python",
   "pygments_lexer": "ipython3",
   "version": "3.8.13"
  },
  "orig_nbformat": 4
 },
 "nbformat": 4,
 "nbformat_minor": 2
}
